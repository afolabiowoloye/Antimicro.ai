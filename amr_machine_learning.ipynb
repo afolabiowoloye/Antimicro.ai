{
 "cells": [
  {
   "cell_type": "markdown",
   "id": "b659168f",
   "metadata": {},
   "source": [
    "## Import Packages and datasets\n"
   ]
  },
  {
   "cell_type": "code",
   "execution_count": 10,
   "id": "dc4d56c6",
   "metadata": {},
   "outputs": [],
   "source": [
    "import pandas as pd\n",
    "from sklearn.feature_selection import SelectKBest, chi2\n",
    "from sklearn.model_selection import train_test_split\n",
    "from sklearn.preprocessing import OneHotEncoder, PolynomialFeatures, StandardScaler\n",
    "from sklearn.metrics import accuracy_score, confusion_matrix, precision_score, recall_score\n",
    "from sklearn.tree import DecisionTreeClassifier\n",
    "from sklearn.ensemble import RandomForestClassifier, VotingClassifier\n",
    "from sklearn.linear_model import LogisticRegression\n",
    "from sklearn.svm import SVC\n",
    "from sklearn.pipeline import Pipeline\n",
    "\n",
    "\n",
    "from sklearn.impute import SimpleImputer\n",
    "from xgboost import XGBClassifier\n",
    "\n",
    "\n",
    "from sklearn.tree import export_graphviz\n",
    "import graphviz\n",
    "import numpy as np\n",
    "\n"
   ]
  },
  {
   "cell_type": "code",
   "execution_count": 11,
   "id": "65a77e4c",
   "metadata": {},
   "outputs": [],
   "source": [
    "import joblib"
   ]
  },
  {
   "cell_type": "code",
   "execution_count": 12,
   "id": "3664ec04",
   "metadata": {},
   "outputs": [],
   "source": [
    "\n",
    " \n",
    "data = pd.read_csv('amr_without_genes_ml.csv')"
   ]
  },
  {
   "cell_type": "code",
   "execution_count": 14,
   "id": "ffeaba93",
   "metadata": {},
   "outputs": [
    {
     "data": {
      "text/html": [
       "<div>\n",
       "<style scoped>\n",
       "    .dataframe tbody tr th:only-of-type {\n",
       "        vertical-align: middle;\n",
       "    }\n",
       "\n",
       "    .dataframe tbody tr th {\n",
       "        vertical-align: top;\n",
       "    }\n",
       "\n",
       "    .dataframe thead th {\n",
       "        text-align: right;\n",
       "    }\n",
       "</style>\n",
       "<table border=\"1\" class=\"dataframe\">\n",
       "  <thead>\n",
       "    <tr style=\"text-align: right;\">\n",
       "      <th></th>\n",
       "      <th>Species</th>\n",
       "      <th>Country</th>\n",
       "      <th>Speciality</th>\n",
       "      <th>Source</th>\n",
       "      <th>Year</th>\n",
       "      <th>Phenotype</th>\n",
       "      <th>Antibiotics</th>\n",
       "      <th>MIC_Interpretation</th>\n",
       "    </tr>\n",
       "  </thead>\n",
       "  <tbody>\n",
       "    <tr>\n",
       "      <th>0</th>\n",
       "      <td>Pseudomonas aeruginosa</td>\n",
       "      <td>France</td>\n",
       "      <td>Emergency Room</td>\n",
       "      <td>Urine</td>\n",
       "      <td>2013</td>\n",
       "      <td>NaN</td>\n",
       "      <td>Levofloxacin</td>\n",
       "      <td>Resistant</td>\n",
       "    </tr>\n",
       "    <tr>\n",
       "      <th>1</th>\n",
       "      <td>Pseudomonas aeruginosa</td>\n",
       "      <td>France</td>\n",
       "      <td>Emergency Room</td>\n",
       "      <td>Urine</td>\n",
       "      <td>2013</td>\n",
       "      <td>NaN</td>\n",
       "      <td>Meropenem</td>\n",
       "      <td>Susceptible</td>\n",
       "    </tr>\n",
       "    <tr>\n",
       "      <th>2</th>\n",
       "      <td>Pseudomonas aeruginosa</td>\n",
       "      <td>France</td>\n",
       "      <td>Emergency Room</td>\n",
       "      <td>Urine</td>\n",
       "      <td>2013</td>\n",
       "      <td>NaN</td>\n",
       "      <td>Piperacillin.tazobactam</td>\n",
       "      <td>Resistant</td>\n",
       "    </tr>\n",
       "    <tr>\n",
       "      <th>3</th>\n",
       "      <td>Pseudomonas aeruginosa</td>\n",
       "      <td>France</td>\n",
       "      <td>Emergency Room</td>\n",
       "      <td>Ear</td>\n",
       "      <td>2013</td>\n",
       "      <td>NaN</td>\n",
       "      <td>Cefepime</td>\n",
       "      <td>Intermediate</td>\n",
       "    </tr>\n",
       "    <tr>\n",
       "      <th>4</th>\n",
       "      <td>Pseudomonas aeruginosa</td>\n",
       "      <td>France</td>\n",
       "      <td>Emergency Room</td>\n",
       "      <td>Ear</td>\n",
       "      <td>2013</td>\n",
       "      <td>NaN</td>\n",
       "      <td>Levofloxacin</td>\n",
       "      <td>Resistant</td>\n",
       "    </tr>\n",
       "    <tr>\n",
       "      <th>...</th>\n",
       "      <td>...</td>\n",
       "      <td>...</td>\n",
       "      <td>...</td>\n",
       "      <td>...</td>\n",
       "      <td>...</td>\n",
       "      <td>...</td>\n",
       "      <td>...</td>\n",
       "      <td>...</td>\n",
       "    </tr>\n",
       "    <tr>\n",
       "      <th>1048570</th>\n",
       "      <td>Enterococcus faecalis</td>\n",
       "      <td>United States</td>\n",
       "      <td>Medicine General</td>\n",
       "      <td>Blood</td>\n",
       "      <td>2018</td>\n",
       "      <td>NaN</td>\n",
       "      <td>Ampicillin</td>\n",
       "      <td>Susceptible</td>\n",
       "    </tr>\n",
       "    <tr>\n",
       "      <th>1048571</th>\n",
       "      <td>Enterococcus faecalis</td>\n",
       "      <td>United States</td>\n",
       "      <td>Medicine General</td>\n",
       "      <td>Blood</td>\n",
       "      <td>2018</td>\n",
       "      <td>NaN</td>\n",
       "      <td>Vancomycin</td>\n",
       "      <td>Susceptible</td>\n",
       "    </tr>\n",
       "    <tr>\n",
       "      <th>1048572</th>\n",
       "      <td>Enterococcus faecalis</td>\n",
       "      <td>United States</td>\n",
       "      <td>Medicine General</td>\n",
       "      <td>Blood</td>\n",
       "      <td>2018</td>\n",
       "      <td>NaN</td>\n",
       "      <td>Teicoplanin</td>\n",
       "      <td>Susceptible</td>\n",
       "    </tr>\n",
       "    <tr>\n",
       "      <th>1048573</th>\n",
       "      <td>Staphylococcus aureus</td>\n",
       "      <td>United States</td>\n",
       "      <td>None Given</td>\n",
       "      <td>Cellulitis</td>\n",
       "      <td>2018</td>\n",
       "      <td>MSSA</td>\n",
       "      <td>Vancomycin</td>\n",
       "      <td>Susceptible</td>\n",
       "    </tr>\n",
       "    <tr>\n",
       "      <th>1048574</th>\n",
       "      <td>Staphylococcus aureus</td>\n",
       "      <td>United States</td>\n",
       "      <td>None Given</td>\n",
       "      <td>Cellulitis</td>\n",
       "      <td>2018</td>\n",
       "      <td>MSSA</td>\n",
       "      <td>Teicoplanin</td>\n",
       "      <td>Susceptible</td>\n",
       "    </tr>\n",
       "  </tbody>\n",
       "</table>\n",
       "<p>1048575 rows × 8 columns</p>\n",
       "</div>"
      ],
      "text/plain": [
       "                        Species        Country        Speciality      Source  \\\n",
       "0        Pseudomonas aeruginosa         France    Emergency Room       Urine   \n",
       "1        Pseudomonas aeruginosa         France    Emergency Room       Urine   \n",
       "2        Pseudomonas aeruginosa         France    Emergency Room       Urine   \n",
       "3        Pseudomonas aeruginosa         France    Emergency Room         Ear   \n",
       "4        Pseudomonas aeruginosa         France    Emergency Room         Ear   \n",
       "...                         ...            ...               ...         ...   \n",
       "1048570   Enterococcus faecalis  United States  Medicine General       Blood   \n",
       "1048571   Enterococcus faecalis  United States  Medicine General       Blood   \n",
       "1048572   Enterococcus faecalis  United States  Medicine General       Blood   \n",
       "1048573   Staphylococcus aureus  United States        None Given  Cellulitis   \n",
       "1048574   Staphylococcus aureus  United States        None Given  Cellulitis   \n",
       "\n",
       "         Year Phenotype              Antibiotics MIC_Interpretation  \n",
       "0        2013       NaN             Levofloxacin          Resistant  \n",
       "1        2013       NaN                Meropenem        Susceptible  \n",
       "2        2013       NaN  Piperacillin.tazobactam          Resistant  \n",
       "3        2013       NaN                 Cefepime       Intermediate  \n",
       "4        2013       NaN             Levofloxacin          Resistant  \n",
       "...       ...       ...                      ...                ...  \n",
       "1048570  2018       NaN               Ampicillin        Susceptible  \n",
       "1048571  2018       NaN               Vancomycin        Susceptible  \n",
       "1048572  2018       NaN              Teicoplanin        Susceptible  \n",
       "1048573  2018      MSSA               Vancomycin        Susceptible  \n",
       "1048574  2018      MSSA              Teicoplanin        Susceptible  \n",
       "\n",
       "[1048575 rows x 8 columns]"
      ]
     },
     "execution_count": 14,
     "metadata": {},
     "output_type": "execute_result"
    }
   ],
   "source": [
    "data"
   ]
  },
  {
   "cell_type": "code",
   "execution_count": 15,
   "id": "932801e1",
   "metadata": {},
   "outputs": [],
   "source": [
    "# Initialize SimpleImputer with 'most_frequent' strategy\n",
    "imputer = SimpleImputer(strategy='most_frequent')"
   ]
  },
  {
   "cell_type": "code",
   "execution_count": 16,
   "id": "561dfd40",
   "metadata": {},
   "outputs": [],
   "source": [
    "# Perform Simple Imputation\n",
    "imputed_data = imputer.fit_transform(data)"
   ]
  },
  {
   "cell_type": "code",
   "execution_count": 17,
   "id": "bf27e766",
   "metadata": {},
   "outputs": [],
   "source": [
    "# Convert the imputed array back to DataFrame\n",
    "data = pd.DataFrame(imputed_data, columns=data.columns)\n"
   ]
  },
  {
   "cell_type": "code",
   "execution_count": 18,
   "id": "02d1dc1a",
   "metadata": {},
   "outputs": [],
   "source": [
    "\n",
    "from sklearn.preprocessing import LabelEncoder\n",
    "\n",
    "label_encoder = LabelEncoder()\n",
    "data_encoded = data.apply(label_encoder.fit_transform)"
   ]
  },
  {
   "cell_type": "code",
   "execution_count": 19,
   "id": "a47724bd",
   "metadata": {
    "scrolled": true
   },
   "outputs": [
    {
     "data": {
      "text/html": [
       "<div>\n",
       "<style scoped>\n",
       "    .dataframe tbody tr th:only-of-type {\n",
       "        vertical-align: middle;\n",
       "    }\n",
       "\n",
       "    .dataframe tbody tr th {\n",
       "        vertical-align: top;\n",
       "    }\n",
       "\n",
       "    .dataframe thead th {\n",
       "        text-align: right;\n",
       "    }\n",
       "</style>\n",
       "<table border=\"1\" class=\"dataframe\">\n",
       "  <thead>\n",
       "    <tr style=\"text-align: right;\">\n",
       "      <th></th>\n",
       "      <th>Species</th>\n",
       "      <th>Country</th>\n",
       "      <th>Speciality</th>\n",
       "      <th>Source</th>\n",
       "      <th>Year</th>\n",
       "      <th>Phenotype</th>\n",
       "      <th>Antibiotics</th>\n",
       "      <th>MIC_Interpretation</th>\n",
       "    </tr>\n",
       "  </thead>\n",
       "  <tbody>\n",
       "    <tr>\n",
       "      <th>0</th>\n",
       "      <td>190</td>\n",
       "      <td>15</td>\n",
       "      <td>1</td>\n",
       "      <td>88</td>\n",
       "      <td>8</td>\n",
       "      <td>2</td>\n",
       "      <td>23</td>\n",
       "      <td>1</td>\n",
       "    </tr>\n",
       "    <tr>\n",
       "      <th>1</th>\n",
       "      <td>190</td>\n",
       "      <td>15</td>\n",
       "      <td>1</td>\n",
       "      <td>88</td>\n",
       "      <td>8</td>\n",
       "      <td>2</td>\n",
       "      <td>25</td>\n",
       "      <td>2</td>\n",
       "    </tr>\n",
       "    <tr>\n",
       "      <th>2</th>\n",
       "      <td>190</td>\n",
       "      <td>15</td>\n",
       "      <td>1</td>\n",
       "      <td>88</td>\n",
       "      <td>8</td>\n",
       "      <td>2</td>\n",
       "      <td>30</td>\n",
       "      <td>1</td>\n",
       "    </tr>\n",
       "    <tr>\n",
       "      <th>3</th>\n",
       "      <td>190</td>\n",
       "      <td>15</td>\n",
       "      <td>1</td>\n",
       "      <td>27</td>\n",
       "      <td>8</td>\n",
       "      <td>2</td>\n",
       "      <td>6</td>\n",
       "      <td>0</td>\n",
       "    </tr>\n",
       "    <tr>\n",
       "      <th>4</th>\n",
       "      <td>190</td>\n",
       "      <td>15</td>\n",
       "      <td>1</td>\n",
       "      <td>27</td>\n",
       "      <td>8</td>\n",
       "      <td>2</td>\n",
       "      <td>23</td>\n",
       "      <td>1</td>\n",
       "    </tr>\n",
       "    <tr>\n",
       "      <th>...</th>\n",
       "      <td>...</td>\n",
       "      <td>...</td>\n",
       "      <td>...</td>\n",
       "      <td>...</td>\n",
       "      <td>...</td>\n",
       "      <td>...</td>\n",
       "      <td>...</td>\n",
       "      <td>...</td>\n",
       "    </tr>\n",
       "    <tr>\n",
       "      <th>1048570</th>\n",
       "      <td>110</td>\n",
       "      <td>55</td>\n",
       "      <td>3</td>\n",
       "      <td>7</td>\n",
       "      <td>13</td>\n",
       "      <td>2</td>\n",
       "      <td>2</td>\n",
       "      <td>2</td>\n",
       "    </tr>\n",
       "    <tr>\n",
       "      <th>1048571</th>\n",
       "      <td>110</td>\n",
       "      <td>55</td>\n",
       "      <td>3</td>\n",
       "      <td>7</td>\n",
       "      <td>13</td>\n",
       "      <td>2</td>\n",
       "      <td>35</td>\n",
       "      <td>2</td>\n",
       "    </tr>\n",
       "    <tr>\n",
       "      <th>1048572</th>\n",
       "      <td>110</td>\n",
       "      <td>55</td>\n",
       "      <td>3</td>\n",
       "      <td>7</td>\n",
       "      <td>13</td>\n",
       "      <td>2</td>\n",
       "      <td>32</td>\n",
       "      <td>2</td>\n",
       "    </tr>\n",
       "    <tr>\n",
       "      <th>1048573</th>\n",
       "      <td>215</td>\n",
       "      <td>55</td>\n",
       "      <td>5</td>\n",
       "      <td>20</td>\n",
       "      <td>13</td>\n",
       "      <td>4</td>\n",
       "      <td>35</td>\n",
       "      <td>2</td>\n",
       "    </tr>\n",
       "    <tr>\n",
       "      <th>1048574</th>\n",
       "      <td>215</td>\n",
       "      <td>55</td>\n",
       "      <td>5</td>\n",
       "      <td>20</td>\n",
       "      <td>13</td>\n",
       "      <td>4</td>\n",
       "      <td>32</td>\n",
       "      <td>2</td>\n",
       "    </tr>\n",
       "  </tbody>\n",
       "</table>\n",
       "<p>1048575 rows × 8 columns</p>\n",
       "</div>"
      ],
      "text/plain": [
       "         Species  Country  Speciality  Source  Year  Phenotype  Antibiotics  \\\n",
       "0            190       15           1      88     8          2           23   \n",
       "1            190       15           1      88     8          2           25   \n",
       "2            190       15           1      88     8          2           30   \n",
       "3            190       15           1      27     8          2            6   \n",
       "4            190       15           1      27     8          2           23   \n",
       "...          ...      ...         ...     ...   ...        ...          ...   \n",
       "1048570      110       55           3       7    13          2            2   \n",
       "1048571      110       55           3       7    13          2           35   \n",
       "1048572      110       55           3       7    13          2           32   \n",
       "1048573      215       55           5      20    13          4           35   \n",
       "1048574      215       55           5      20    13          4           32   \n",
       "\n",
       "         MIC_Interpretation  \n",
       "0                         1  \n",
       "1                         2  \n",
       "2                         1  \n",
       "3                         0  \n",
       "4                         1  \n",
       "...                     ...  \n",
       "1048570                   2  \n",
       "1048571                   2  \n",
       "1048572                   2  \n",
       "1048573                   2  \n",
       "1048574                   2  \n",
       "\n",
       "[1048575 rows x 8 columns]"
      ]
     },
     "execution_count": 19,
     "metadata": {},
     "output_type": "execute_result"
    }
   ],
   "source": [
    "data_encoded"
   ]
  },
  {
   "cell_type": "code",
   "execution_count": 20,
   "id": "23fb80dc",
   "metadata": {},
   "outputs": [
    {
     "name": "stdout",
     "output_type": "stream",
     "text": [
      "Column: Species\n",
      "['Pseudomonas aeruginosa' 'Serratia marcescens' 'Acinetobacter pitii'\n",
      " 'Acinetobacter baumannii' 'Enterobacter cloacae' 'Escherichia coli'\n",
      " 'Haemophilus influenzae' 'Staphylococcus aureus' 'Enterococcus faecium'\n",
      " 'Enterococcus faecalis' 'Streptococcus agalactiae'\n",
      " 'Klebsiella pneumoniae' 'Klebsiella aerogenes' 'Acinetobacter junii'\n",
      " 'Klebsiella oxytoca' 'Enterobacter kobei' 'Streptococcus pneumoniae'\n",
      " 'Acinetobacter, non-speciated' 'Acinetobacter lwoffii'\n",
      " 'Serratia liquefaciens' 'Enterobacter asburiae' 'Citrobacter freundii'\n",
      " 'Serratia fonticola' 'Serratia rubidaea' 'Acinetobacter schindleri'\n",
      " 'Acinetobacter guillouiae' 'Clostridium perfringens'\n",
      " 'Clostridioides difficile' 'Clostridium tertium' 'Clostridium butyricum'\n",
      " 'Clostridium hathewayi' 'Clostridium barati' 'Bacteroides fragilis'\n",
      " 'Parabacteroides distasonis' 'Bacteroides nordii' 'Prevotella denticola'\n",
      " 'Bacteroides vulgatus' 'Bacteroides thetaiotaomicron'\n",
      " 'Bacteroides uniformis' 'Prevotella buccae' 'Prevotella oris'\n",
      " 'Prevotella bivia' 'Peptostreptococcus anaerobius' 'Lelliottia amnigena'\n",
      " 'Acinetobacter calcoaceticus' 'Acinetobacter nosocomialis'\n",
      " 'Enterococcus, non-speciated' 'Pluralibacter gergoviae'\n",
      " 'Acinetobacter radioresistens' 'Acinetobacter johnsonii'\n",
      " 'Enterococcus avium' 'Staphylococcus haemolyticus'\n",
      " 'Acinetobacter ursingii' 'Acinetobacter haemolyticus'\n",
      " 'Enterococcus raffinosus' 'Staphylococcus epidermidis'\n",
      " 'Enterococcus casseliflavus' 'Enterococcus hirae' 'Serratia odorifera'\n",
      " 'Enterococcus gallinarum' 'Staphylococcus hominis'\n",
      " 'Staphylococcus lugdunensis' 'Staphylococcus simulans' 'Proteus vulgaris'\n",
      " 'Citrobacter koseri' 'Morganella morganii' 'Providencia stuartii'\n",
      " 'Streptococcus bovis' 'Streptococcus pyogenes' 'Proteus mirabilis'\n",
      " 'Staphylococcus saprophyticus' 'Streptococcus constellatus'\n",
      " 'Haemophilus parainfluenzae' 'Streptococcus dysgalactiae'\n",
      " 'Streptococcus anginosus' 'Streptococcus gallolyticus'\n",
      " 'Streptococcus sanguinis' 'Staphylococcus warneri' 'Aeromonas caviae'\n",
      " 'Citrobacter braakii' 'Stenotrophomonas maltophilia'\n",
      " 'Enterobacter ludwigii' 'Acinetobacter parvus'\n",
      " 'Acinetobacter tjernbergiae' 'Klebsiella, non-speciated'\n",
      " 'Serratia, non-speciated' 'Serratia ficaria'\n",
      " 'Enterobacter, non-speciated' 'Klebsiella ozaenae'\n",
      " 'Peptostreptococcus magnus' 'Parvimonas micra' 'Anaerococcus tetradius'\n",
      " 'Prevotella loescheii' 'Bacteroides ovatus'\n",
      " 'Clostridium clostridiiformis' 'Prevotella oralis'\n",
      " 'Clostridium subterminale' 'Prevotella intermedia' 'Clostridium ramosum'\n",
      " 'Bacteroides caccae' 'Campylobacter ureolyticus'\n",
      " 'Clostridium paraputrificum' 'Anaerococcus prevotii'\n",
      " 'Clostridium limosum' 'Streptococcus castoreus' 'Providencia rettgeri'\n",
      " 'Staphylococcus capitis' 'Citrobacter farmeri'\n",
      " 'Enterobacter cancerogenus' 'Pseudomonas putida' 'Citrobacter gillenii'\n",
      " 'Citrobacter murliniae' 'Klebsiella variicola'\n",
      " 'Haemophilus parahaemolyticus' 'Streptococcus, viridans group'\n",
      " 'Serratia ureilytica' 'Streptococcus oralis' 'Acinetobacter baylyi'\n",
      " 'Enterobacter agglomerans' 'Pseudomonas nitroreducens'\n",
      " 'Citrobacter sedlakii' 'Prevotella buccalis'\n",
      " 'Peptostreptococcus hydrogenalis' 'Bacteroides salersyae'\n",
      " 'Bacteroides massiliensis' 'Prevotella nanceinsis'\n",
      " 'Prevotella nigrescens' 'Parabacteroides goldsteinii'\n",
      " 'Anaerococcus lactolyticus' 'Peptoniphilus harei'\n",
      " 'Prevotella melaninogenica' 'Clostridium aldenense' 'Prevotella disiens'\n",
      " 'Clostridium citroniae' 'Peptoniphilus gorbachii' 'Clostridium innocuum'\n",
      " 'Clostridium scindens' 'Streptococcus salivarius'\n",
      " 'Raoultella ornithinolytica' 'Raoultella planticola'\n",
      " 'Enterococcus durans' 'Staphylococcus cohnii' 'Clostridium septicum'\n",
      " 'Clostridium sporogenes' 'Clostridium sordellii' 'Enterobacter sakazakii'\n",
      " 'Staphylococcus sciuri' 'Serratia plymuthica' 'Hafnia alvei'\n",
      " 'Clostridium celerecrescens' 'Anaerococcus hydrogenalis'\n",
      " 'Anaerococcus vaginalis' 'Bacteroides pyogenes' 'Prevotella baroniae'\n",
      " 'Bacteroides intestinalis' 'Prevotella histicola'\n",
      " 'Anaerococcus murdochii' 'Clostridium symbiosum' 'Bacteroides stercosis'\n",
      " 'Peptoniphilus indolicus' 'Prevotella spp' 'Prevotella pallens'\n",
      " 'Prevotella bergensis' 'Prevotella salivae' 'Prevotella maculosa'\n",
      " 'Citrobacter amalonaticus' 'Citrobacter, non-speciated'\n",
      " 'Staphylococcus caprae' 'Neisseria gonorrhoeae' 'Proteus penneri'\n",
      " 'Streptococcus mitis' 'Pseudomonas monteilii' 'Proteus hauseri'\n",
      " 'Streptococcus intermedius' 'Staphylococcus pseudointermedius'\n",
      " 'Pantoea agglomerans' 'Pseudomonas stutzeri' 'Anaerococcus spp'\n",
      " 'Clostridium sphenoides' 'Parabacteroides johnsonii'\n",
      " 'Staphylococcus schleiferi' 'Clostridium cadaveris'\n",
      " 'Staphylococcus auricularis' 'Providencia alcalifaciens'\n",
      " 'Streptococcus parasanguinis' 'Enterobacter hormaechi'\n",
      " 'Escherichia hermanii' 'Providencia, non-speciated'\n",
      " 'Raoultella terrigena' 'Burkholderia cepacia' 'Streptococcus sanguis'\n",
      " 'Staphylococcus pasteuri' 'Staphylococcus Coagulase Negative'\n",
      " 'Serratia grimesii' 'Acinetobacter towneri' 'Streptococcus suis'\n",
      " 'Staphylococcus xylosus' 'Pseudomonas alcaliphila'\n",
      " 'Klebsiella ornithinolytica' 'Proteus rettgeri' 'Peptoniphilus spp'\n",
      " 'Clostridium spp' 'Clostridium bifermentans' 'Pseudomonas otitidis'\n",
      " 'Bacteroides spp' 'Clostridium bolteae' 'Anaerococcus octavius'\n",
      " 'Prevotella corporis' 'Clostridium disporicum' 'Clostridium histolyticum'\n",
      " 'Clostridium beijerinckii' 'Clostridium glycolicum' 'Prevotella oulorum'\n",
      " 'Clostridium cochlearium' 'Staphylococcus intermedius'\n",
      " 'Enterobacter intermedium' 'Burkholderia cenocepacia'\n",
      " 'Bacteroides coagulans' 'Klebsiella planticola'\n",
      " 'Bacteroides cellulosilyticus' 'Prevotella heparinolytica'\n",
      " 'Acinetobacter anitratus' 'Cronobacter sakazakii' 'Streptococcus canis'\n",
      " 'Staphylococcus pettenkoferi' 'Pseudomonas mendocina'\n",
      " 'Aeromonas hydrophila' 'Pantoea septica' 'Streptococcus lutetiensis'\n",
      " 'Citrobacter youngae' 'Peptostreptococcus spp' 'Finegoldia magna'\n",
      " 'Aeromonas veronii' 'Pseudomonas mosselii' 'Bacteroides faecis'\n",
      " 'Kluyvera ascorbata' 'Enterobacter taylorae' 'Prevotella timonensis'\n",
      " 'Peptoniphilus olsenii' 'Bacteroides eggerthii' 'Prevotella veroralis'\n",
      " 'Enterobacter gergoviae' 'Peptoniphilus lacrimalis' 'Prevotella amnii'\n",
      " 'Enterococcus mundtii' 'Streptococcus massiliensis'\n",
      " 'Clostridium colicanis' 'Acinetobacter bereziniae' 'Staphylococcus spp'\n",
      " 'Aeromonas spp' 'Proteus spp' 'Escherichia vulneris'\n",
      " 'Acinetobacter dijkshoorniae' 'Pantoea dispersa'\n",
      " 'Pseudomonas pseudoalcaligenes' 'Citrobacter diversus' 'Pseudomonas spp']\n",
      "\n",
      "Column: Country\n",
      "['France' 'Spain' 'Belgium' 'Italy' 'Germany' 'Canada' 'United States'\n",
      " 'Ireland' 'Portugal' 'Israel' 'Greece' 'China' 'United Kingdom' 'Kuwait'\n",
      " 'Poland' 'Switzerland' 'Hungary' 'Austria' 'Colombia' 'Chile' 'Finland'\n",
      " 'Australia' 'Mexico' 'Denmark' 'Sweden' 'Hong Kong' 'Japan' 'Croatia'\n",
      " 'Malaysia' 'Nigeria' 'Kenya' 'Czech Republic' 'Netherlands' 'Russia'\n",
      " 'Romania' 'Venezuela' 'Thailand' 'Philippines' 'Turkey' 'Korea, South'\n",
      " 'South Africa' 'Argentina' 'Taiwan' 'Brazil' 'Panama' 'Jordan'\n",
      " 'Saudi Arabia' 'Pakistan' 'Guatemala' 'Morocco' 'India' 'Singapore'\n",
      " 'Vietnam' 'Latvia' 'Lithuania' 'Serbia' 'Dominican Republic' 'Costa Rica']\n",
      "\n",
      "Column: Speciality\n",
      "['Emergency Room' 'Nursing Home / Rehab' 'Medicine General' 'Medicine ICU'\n",
      " 'Surgery General' 'None Given' 'Pediatric General' 'Pediatric ICU'\n",
      " 'Clinic / Office' 'Surgery ICU' 'General Unspecified ICU' 'Other']\n",
      "\n",
      "Column: Source\n",
      "['Urine' 'Ear' 'Skin' 'Blood' 'Bronchus' 'Sputum' 'Peritoneal Fluid'\n",
      " 'Bone' 'Wound' 'Placenta' 'Gastric Abscess' 'Stomach' 'Vagina' 'Lungs'\n",
      " 'Nose' 'Catheters' 'Exudate' 'Throat' 'CNS: Other' 'Peripheral Nerves'\n",
      " 'Eye' 'Decubitus' 'Ulcer' 'Synovial Fluid' 'Genitourinary: Other'\n",
      " 'Tissue Fluid' 'Respiratory: Other' 'Trachea' 'Drains' 'Rectum' 'Bile'\n",
      " 'Feces/Stool' 'Skin: Other' 'Bodily Fluids' 'Lymph Nodes' 'Spinal Cord'\n",
      " 'Abdominal Fluid' 'None Given' 'Pleural Fluid' 'Aspirate' 'Kidney'\n",
      " 'Instruments: Other' 'HEENT: Other' 'Intestinal: Other' 'Mouth' 'Penis'\n",
      " 'Thoracentesis Fluid' 'Pancreas' 'Gall Bladder' 'CSF' 'Head' 'Muscle'\n",
      " 'Urethra' 'Liver' 'Brain' 'Burn' 'Nails' 'Bone Marrow'\n",
      " 'Respiratory: Sinuses' 'Heart' 'Colon' 'Skeletal: Other'\n",
      " 'Endotracheal aspirate' 'Bladder' 'Abscess' 'Bronchoalveolar lavage'\n",
      " 'Circulatory: Other' 'Ureter' 'Appendix' 'Impetiginous lesions'\n",
      " 'Furuncle' 'Carbuncle' 'Prostate' 'Uterus'\n",
      " 'Integumentary (Skin Nail Hair)' 'Cellulitis' 'Blood Vessels'\n",
      " 'Diverticulum' 'Fallopian Tubes' 'Vas Deferens' 'Spleen' 'Ovary' 'Cervix'\n",
      " 'Lymphatic Fluid' 'Testis' 'Hair' 'Esophagus' 'Vomit' 'Thymus'\n",
      " 'Nasopharyngeal Aspirate' 'Transtracheal Aspirate' 'Paracentesis Fluid'\n",
      " 'Ascetic Fluid' 'Nasotracheal Aspirate']\n",
      "\n",
      "Column: Year\n",
      "[2013 2012 2014 2011 2015 2009 2017 2016 2004 2005 2007 2006 2010 2018]\n",
      "\n",
      "Column: Phenotype\n",
      "['ESBL' '(BL Neg)' 'MSSA' 'MRSA' '(BL Pos)']\n",
      "\n",
      "Column: Antibiotics\n",
      "['Levofloxacin' 'Meropenem' 'Piperacillin.tazobactam' 'Cefepime'\n",
      " 'Ceftazidime' 'Amikacin' 'Minocycline' 'Ampicillin' 'Vancomycin'\n",
      " 'Penicillin' 'Amoxycillin.clavulanate' 'Clarithromycin' 'Ceftriaxone'\n",
      " 'Azithromycin' 'Clindamycin' 'Tigecycline' 'Cefoxitin' 'Linezolid'\n",
      " 'Imipenem' 'Ceftaroline' 'Doripenem' 'Aztreonam' 'Moxifloxacin'\n",
      " 'Teicoplanin' 'Erythromycin' 'Oxacillin' 'Ertapenem' 'Daptomycin'\n",
      " 'Quinupristin.dalfopristin' 'Ampicillin.sulbactam' 'Colistin'\n",
      " 'Gentamicin' 'Cefixime' 'Ciprofloxacin' 'Tetracycline'\n",
      " 'Ceftolozane.tazobactam']\n",
      "\n",
      "Column: MIC_Interpretation\n"
     ]
    },
    {
     "name": "stdout",
     "output_type": "stream",
     "text": [
      "['Resistant' 'Susceptible' 'Intermediate']\n",
      "\n"
     ]
    }
   ],
   "source": [
    "for column in data.columns:\n",
    "    print(f\"Column: {column}\")\n",
    "    print(data[column].unique())\n",
    "    print()"
   ]
  },
  {
   "cell_type": "code",
   "execution_count": 21,
   "id": "825537a5",
   "metadata": {},
   "outputs": [
    {
     "name": "stdout",
     "output_type": "stream",
     "text": [
      "Column: Species\n",
      "[190 208  13   1  98 117 121 215 111 110 236 130 125   9 127 102 250  19\n",
      "  10 207  96  56 205 211  15   6  83  63  93  69  78  65  37 140  40 162\n",
      "  48  46  47 159 173 158 150 134   4  11 116 154  14   8 107 221  18   7\n",
      " 115 220 108 113 209 112 222 224 231 185  58 135 188 238 251 181 228 241\n",
      " 123 242 237 243 253 233  20  53 235 103  12  16 132 213 204 106 128 152\n",
      " 143  30 167  41  73 172  91 166  84  32  51  82  28  81 240 187 217  55\n",
      "  97 198  57  59 131 122 256 212 248   2  95 195  60 160 151  43  39 170\n",
      " 171 141  25 145 169  64 163  72 144  80  85 252 201 202 109 219  86  89\n",
      "  87 104 230 210 124  71  24  31  42 156  38 165  26  92  45 146 177 175\n",
      " 157 176 168  52  62 218 136 182 247 193 180 244 227 137 200  29  88 142\n",
      " 229  70 216 186 249 100 118 189 203  50 254 225 214 206  17 255 234 191\n",
      " 126 183 149  90  67 196  44  68  27 161  76  79  66  77 174  74 223 101\n",
      "  49  34 129  33 164   0  94 239 226 192  21 139 245  61 153 120  23 194\n",
      "  36 133 105 178 148  35 179  99 147 155 114 246  75   3 232  22 184 119\n",
      "   5 138 197  54 199]\n",
      "\n",
      "Column: Country\n",
      "[15 48  3 24 16  5 55 22 41 23 17  7 54 29 40 50 20  2  8  6 14  1 33 12\n",
      " 49 19 25 10 32 36 27 11 35 43 42 56 52 39 53 28 47  0 51  4 38 26 44 37\n",
      " 18 34 21 46 57 30 31 45 13  9]\n",
      "\n",
      "Column: Speciality\n",
      "[ 1  6  3  4 10  5  8  9  0 11  2  7]\n",
      "\n",
      "Column: Source\n",
      "[88 27 71  7 14 75 63 10 93 64 36 76 90 48 57 19 30 80 16 62 31 24 85 77\n",
      " 37 82 68 83 26 67  5 33 72  9 49 73  0 56 65  4 46 43 38 45 51 61 79 59\n",
      " 35 17 40 52 87 47 12 15 53 11 69 41 23 70 28  6  1 13 22 86  2 42 34 18\n",
      " 66 89 44 20  8 25 32 91 74 58 21 50 78 39 29 92 81 54 84 60  3 55]\n",
      "\n",
      "Column: Year\n",
      "[ 8  7  9  6 10  4 12 11  0  1  3  2  5 13]\n",
      "\n",
      "Column: Phenotype\n",
      "[2 0 4 3 1]\n",
      "\n",
      "Column: Antibiotics\n",
      "[23 25 30  6 10  0 26  2 35 29  1 14 12  4 15 34  8 24 22  9 18  5 27 32\n",
      " 20 28 19 17 31  3 16 21  7 13 33 11]\n",
      "\n",
      "Column: MIC_Interpretation\n",
      "[1 2 0]\n",
      "\n"
     ]
    }
   ],
   "source": [
    "for column in data_encoded.columns:\n",
    "    print(f\"Column: {column}\")\n",
    "    print(data_encoded[column].unique())\n",
    "    print()\n"
   ]
  },
  {
   "cell_type": "markdown",
   "id": "51af697f",
   "metadata": {},
   "source": [
    "## Preprocess the data"
   ]
  },
  {
   "cell_type": "code",
   "execution_count": null,
   "id": "e22ff214",
   "metadata": {
    "scrolled": true
   },
   "outputs": [],
   "source": [
    "data_encoded.head()"
   ]
  },
  {
   "cell_type": "markdown",
   "id": "39ec47f1",
   "metadata": {},
   "source": [
    "## Create the Train and Test datasets"
   ]
  },
  {
   "cell_type": "code",
   "execution_count": null,
   "id": "f6e088be",
   "metadata": {},
   "outputs": [],
   "source": [
    "# Separate features and target variable\n",
    "X = data_encoded.drop(['MIC_Interpretation'], axis=1)  # Features\n",
    "y = data_encoded['MIC_Interpretation']  # Target variable\n"
   ]
  },
  {
   "cell_type": "code",
   "execution_count": null,
   "id": "d0113cc1",
   "metadata": {},
   "outputs": [],
   "source": [
    "X.head()"
   ]
  },
  {
   "cell_type": "code",
   "execution_count": null,
   "id": "4222cf3f",
   "metadata": {},
   "outputs": [],
   "source": [
    "y.head()"
   ]
  },
  {
   "cell_type": "code",
   "execution_count": null,
   "id": "c5e6b9b6",
   "metadata": {},
   "outputs": [],
   "source": [
    "# Split the data into training and testing sets\n",
    "X_train, X_test, y_train, y_test = train_test_split(X, y, test_size=0.2, random_state=42)\n"
   ]
  },
  {
   "cell_type": "markdown",
   "id": "1efa7d17",
   "metadata": {},
   "source": [
    "## Train the model"
   ]
  },
  {
   "cell_type": "code",
   "execution_count": null,
   "id": "91093071",
   "metadata": {},
   "outputs": [],
   "source": [
    "# Train the  models\n",
    "xgb = XGBClassifier()\n",
    "\n"
   ]
  },
  {
   "cell_type": "code",
   "execution_count": null,
   "id": "e3274a47",
   "metadata": {},
   "outputs": [],
   "source": [
    "xgb.fit(X_train, y_train)"
   ]
  },
  {
   "cell_type": "code",
   "execution_count": null,
   "id": "00088905",
   "metadata": {},
   "outputs": [],
   "source": [
    "# Make predictions on the test set\n",
    "y_pred = xgb.predict(X_test)\n"
   ]
  },
  {
   "cell_type": "code",
   "execution_count": null,
   "id": "c928e382",
   "metadata": {},
   "outputs": [],
   "source": [
    "# Evaluate the model\n",
    "accuracy = accuracy_score(y_test, y_pred)\n",
    "print(\"Accuracy_dct: %.2f%%\" % (accuracy * 100.0))\n",
    "\n",
    "\n",
    "\n"
   ]
  },
  {
   "cell_type": "code",
   "execution_count": null,
   "id": "eafcdac9",
   "metadata": {},
   "outputs": [],
   "source": []
  },
  {
   "cell_type": "code",
   "execution_count": null,
   "id": "183b7a80",
   "metadata": {},
   "outputs": [],
   "source": [
    "\n",
    "\n",
    "\n"
   ]
  },
  {
   "cell_type": "code",
   "execution_count": null,
   "id": "bc02693e",
   "metadata": {
    "scrolled": true
   },
   "outputs": [],
   "source": [
    "# Calculate precision\n",
    "precision = precision_score(y_test, y_pred)\n",
    "print(\"Precision: %.2f%%\" % (precision * 100.0))\n",
    "\n"
   ]
  },
  {
   "cell_type": "code",
   "execution_count": null,
   "id": "b6055dcc",
   "metadata": {},
   "outputs": [],
   "source": [
    "\n",
    "for column in X.columns:\n",
    "    print(column)\n",
    "\n"
   ]
  },
  {
   "cell_type": "code",
   "execution_count": null,
   "id": "adde1345",
   "metadata": {},
   "outputs": [],
   "source": [
    "X.head(1000)"
   ]
  },
  {
   "cell_type": "code",
   "execution_count": null,
   "id": "2e65d70b",
   "metadata": {},
   "outputs": [],
   "source": [
    "import pickle"
   ]
  },
  {
   "cell_type": "code",
   "execution_count": null,
   "id": "61c96a8a",
   "metadata": {},
   "outputs": [],
   "source": [
    "filename = 'xgb_model_no_genes.pkl'\n",
    "pickle.dump(xgb, open(filename, 'wb'))"
   ]
  },
  {
   "cell_type": "code",
   "execution_count": null,
   "id": "f77f507e",
   "metadata": {},
   "outputs": [],
   "source": [
    "label_encoder_filename = 'label_encoder.sav'\n",
    "joblib.dump(label_encoder, label_encoder_filename)"
   ]
  },
  {
   "cell_type": "code",
   "execution_count": 6,
   "id": "bda1694a",
   "metadata": {},
   "outputs": [],
   "source": [
    "import pandas as pd\n",
    "import numpy as np\n",
    "from sklearn.preprocessing import LabelEncoder\n",
    "import joblib\n",
    "\n",
    "# Load the XGBoost model and LabelEncoder\n",
    "xgb_model_no_genes = joblib.load(\"xgb_model_no_genes.pkl\")\n",
    "label_encoder = joblib.load(\"label_encoder.sav\")\n",
    "\n",
    "\n"
   ]
  },
  {
   "cell_type": "code",
   "execution_count": 25,
   "id": "b9387a80",
   "metadata": {},
   "outputs": [
    {
     "name": "stdout",
     "output_type": "stream",
     "text": [
      "                 Predictor\n",
      "0  Acinetobacter baumannii\n",
      "1                Argentina\n",
      "2          Clinic / Office\n",
      "3          Abdominal Fluid\n",
      "4                     ESBL\n",
      "5                 Amikacin\n"
     ]
    }
   ],
   "source": [
    "# List of predictors\n",
    "predictors = [\"Acinetobacter baumannii\", \"Argentina\",\n",
    "    \"Clinic / Office\",\n",
    "    \"Abdominal Fluid\",\n",
    "    \"ESBL\",\n",
    "    \"Amikacin\"]\n",
    "\n",
    "# Convert the list to a DataFrame\n",
    "predictors_df = pd.DataFrame(predictors, columns=[\"Predictor\"])\n",
    "\n",
    "# Print the DataFrame\n",
    "print(predictors_df)"
   ]
  },
  {
   "cell_type": "code",
   "execution_count": null,
   "id": "39902fbd",
   "metadata": {},
   "outputs": [],
   "source": [
    "# Convert the prediction back to the original label\n",
    "prediction_label = label_encoder.inverse_transform(no_genes_prediction)\n"
   ]
  },
  {
   "cell_type": "code",
   "execution_count": 26,
   "id": "a342593f",
   "metadata": {},
   "outputs": [],
   "source": [
    "# Encode the predictors\n",
    "prediction_encoded = predictors_df.apply(label_encoder.fit_transform)\n"
   ]
  },
  {
   "cell_type": "code",
   "execution_count": 27,
   "id": "4ded9e13",
   "metadata": {},
   "outputs": [
    {
     "data": {
      "text/html": [
       "<div>\n",
       "<style scoped>\n",
       "    .dataframe tbody tr th:only-of-type {\n",
       "        vertical-align: middle;\n",
       "    }\n",
       "\n",
       "    .dataframe tbody tr th {\n",
       "        vertical-align: top;\n",
       "    }\n",
       "\n",
       "    .dataframe thead th {\n",
       "        text-align: right;\n",
       "    }\n",
       "</style>\n",
       "<table border=\"1\" class=\"dataframe\">\n",
       "  <thead>\n",
       "    <tr style=\"text-align: right;\">\n",
       "      <th></th>\n",
       "      <th>Predictor</th>\n",
       "    </tr>\n",
       "  </thead>\n",
       "  <tbody>\n",
       "    <tr>\n",
       "      <th>0</th>\n",
       "      <td>1</td>\n",
       "    </tr>\n",
       "    <tr>\n",
       "      <th>1</th>\n",
       "      <td>3</td>\n",
       "    </tr>\n",
       "    <tr>\n",
       "      <th>2</th>\n",
       "      <td>4</td>\n",
       "    </tr>\n",
       "    <tr>\n",
       "      <th>3</th>\n",
       "      <td>0</td>\n",
       "    </tr>\n",
       "    <tr>\n",
       "      <th>4</th>\n",
       "      <td>5</td>\n",
       "    </tr>\n",
       "    <tr>\n",
       "      <th>5</th>\n",
       "      <td>2</td>\n",
       "    </tr>\n",
       "  </tbody>\n",
       "</table>\n",
       "</div>"
      ],
      "text/plain": [
       "   Predictor\n",
       "0          1\n",
       "1          3\n",
       "2          4\n",
       "3          0\n",
       "4          5\n",
       "5          2"
      ]
     },
     "execution_count": 27,
     "metadata": {},
     "output_type": "execute_result"
    }
   ],
   "source": [
    "prediction_encoded"
   ]
  },
  {
   "cell_type": "code",
   "execution_count": 30,
   "id": "7a836362",
   "metadata": {},
   "outputs": [
    {
     "name": "stdout",
     "output_type": "stream",
     "text": [
      "['Acinetobacter baumannii' 'Argentina' 'Clinic / Office' 'Abdominal Fluid'\n",
      " 'ESBL' 'Amikacin']\n"
     ]
    }
   ],
   "source": [
    "# Convert the list to a NumPy array\n",
    "predictors_array = np.array(predictors)\n",
    "\n",
    "# Print the array\n",
    "print(predictors_array)\n"
   ]
  },
  {
   "cell_type": "code",
   "execution_count": 32,
   "id": "90097f49",
   "metadata": {},
   "outputs": [
    {
     "name": "stdout",
     "output_type": "stream",
     "text": [
      "[1 3 4 0 5 2]\n"
     ]
    }
   ],
   "source": [
    "# Encode the predictors\n",
    "prediction_encoded = np.vectorize(lambda x: label_encoder.transform([x])[0])(predictors_array)\n",
    "\n",
    "# Print the encoded values\n",
    "print(prediction_encoded)"
   ]
  },
  {
   "cell_type": "code",
   "execution_count": 33,
   "id": "e5eb44c4",
   "metadata": {},
   "outputs": [
    {
     "ename": "ValueError",
     "evalue": "training data did not have the following fields: Species, Country, Speciality, Source, Year, Phenotype, Antibiotics",
     "output_type": "error",
     "traceback": [
      "\u001b[1;31m---------------------------------------------------------------------------\u001b[0m",
      "\u001b[1;31mValueError\u001b[0m                                Traceback (most recent call last)",
      "Cell \u001b[1;32mIn[33], line 2\u001b[0m\n\u001b[0;32m      1\u001b[0m \u001b[38;5;66;03m# Predict using the encoded values\u001b[39;00m\n\u001b[1;32m----> 2\u001b[0m no_genes_prediction \u001b[38;5;241m=\u001b[39m \u001b[43mxgb_model_no_genes\u001b[49m\u001b[38;5;241;43m.\u001b[39;49m\u001b[43mpredict\u001b[49m\u001b[43m(\u001b[49m\u001b[43m[\u001b[49m\u001b[43mprediction_encoded\u001b[49m\u001b[43m]\u001b[49m\u001b[43m)\u001b[49m\n",
      "File \u001b[1;32m~\\anaconda3\\envs\\deeplearning\\lib\\site-packages\\xgboost\\sklearn.py:1525\u001b[0m, in \u001b[0;36mXGBClassifier.predict\u001b[1;34m(self, X, output_margin, ntree_limit, validate_features, base_margin, iteration_range)\u001b[0m\n\u001b[0;32m   1515\u001b[0m \u001b[38;5;28;01mdef\u001b[39;00m \u001b[38;5;21mpredict\u001b[39m(\n\u001b[0;32m   1516\u001b[0m     \u001b[38;5;28mself\u001b[39m,\n\u001b[0;32m   1517\u001b[0m     X: ArrayLike,\n\u001b[1;32m   (...)\u001b[0m\n\u001b[0;32m   1522\u001b[0m     iteration_range: Optional[Tuple[\u001b[38;5;28mint\u001b[39m, \u001b[38;5;28mint\u001b[39m]] \u001b[38;5;241m=\u001b[39m \u001b[38;5;28;01mNone\u001b[39;00m,\n\u001b[0;32m   1523\u001b[0m ) \u001b[38;5;241m-\u001b[39m\u001b[38;5;241m>\u001b[39m np\u001b[38;5;241m.\u001b[39mndarray:\n\u001b[0;32m   1524\u001b[0m     \u001b[38;5;28;01mwith\u001b[39;00m config_context(verbosity\u001b[38;5;241m=\u001b[39m\u001b[38;5;28mself\u001b[39m\u001b[38;5;241m.\u001b[39mverbosity):\n\u001b[1;32m-> 1525\u001b[0m         class_probs \u001b[38;5;241m=\u001b[39m \u001b[38;5;28;43msuper\u001b[39;49m\u001b[43m(\u001b[49m\u001b[43m)\u001b[49m\u001b[38;5;241;43m.\u001b[39;49m\u001b[43mpredict\u001b[49m\u001b[43m(\u001b[49m\n\u001b[0;32m   1526\u001b[0m \u001b[43m            \u001b[49m\u001b[43mX\u001b[49m\u001b[38;5;241;43m=\u001b[39;49m\u001b[43mX\u001b[49m\u001b[43m,\u001b[49m\n\u001b[0;32m   1527\u001b[0m \u001b[43m            \u001b[49m\u001b[43moutput_margin\u001b[49m\u001b[38;5;241;43m=\u001b[39;49m\u001b[43moutput_margin\u001b[49m\u001b[43m,\u001b[49m\n\u001b[0;32m   1528\u001b[0m \u001b[43m            \u001b[49m\u001b[43mntree_limit\u001b[49m\u001b[38;5;241;43m=\u001b[39;49m\u001b[43mntree_limit\u001b[49m\u001b[43m,\u001b[49m\n\u001b[0;32m   1529\u001b[0m \u001b[43m            \u001b[49m\u001b[43mvalidate_features\u001b[49m\u001b[38;5;241;43m=\u001b[39;49m\u001b[43mvalidate_features\u001b[49m\u001b[43m,\u001b[49m\n\u001b[0;32m   1530\u001b[0m \u001b[43m            \u001b[49m\u001b[43mbase_margin\u001b[49m\u001b[38;5;241;43m=\u001b[39;49m\u001b[43mbase_margin\u001b[49m\u001b[43m,\u001b[49m\n\u001b[0;32m   1531\u001b[0m \u001b[43m            \u001b[49m\u001b[43miteration_range\u001b[49m\u001b[38;5;241;43m=\u001b[39;49m\u001b[43miteration_range\u001b[49m\u001b[43m,\u001b[49m\n\u001b[0;32m   1532\u001b[0m \u001b[43m        \u001b[49m\u001b[43m)\u001b[49m\n\u001b[0;32m   1533\u001b[0m         \u001b[38;5;28;01mif\u001b[39;00m output_margin:\n\u001b[0;32m   1534\u001b[0m             \u001b[38;5;66;03m# If output_margin is active, simply return the scores\u001b[39;00m\n\u001b[0;32m   1535\u001b[0m             \u001b[38;5;28;01mreturn\u001b[39;00m class_probs\n",
      "File \u001b[1;32m~\\anaconda3\\envs\\deeplearning\\lib\\site-packages\\xgboost\\sklearn.py:1139\u001b[0m, in \u001b[0;36mXGBModel.predict\u001b[1;34m(self, X, output_margin, ntree_limit, validate_features, base_margin, iteration_range)\u001b[0m\n\u001b[0;32m   1129\u001b[0m         \u001b[38;5;28;01mpass\u001b[39;00m\n\u001b[0;32m   1131\u001b[0m test \u001b[38;5;241m=\u001b[39m DMatrix(\n\u001b[0;32m   1132\u001b[0m     X,\n\u001b[0;32m   1133\u001b[0m     base_margin\u001b[38;5;241m=\u001b[39mbase_margin,\n\u001b[1;32m   (...)\u001b[0m\n\u001b[0;32m   1137\u001b[0m     enable_categorical\u001b[38;5;241m=\u001b[39m\u001b[38;5;28mself\u001b[39m\u001b[38;5;241m.\u001b[39menable_categorical,\n\u001b[0;32m   1138\u001b[0m )\n\u001b[1;32m-> 1139\u001b[0m \u001b[38;5;28;01mreturn\u001b[39;00m \u001b[38;5;28;43mself\u001b[39;49m\u001b[38;5;241;43m.\u001b[39;49m\u001b[43mget_booster\u001b[49m\u001b[43m(\u001b[49m\u001b[43m)\u001b[49m\u001b[38;5;241;43m.\u001b[39;49m\u001b[43mpredict\u001b[49m\u001b[43m(\u001b[49m\n\u001b[0;32m   1140\u001b[0m \u001b[43m    \u001b[49m\u001b[43mdata\u001b[49m\u001b[38;5;241;43m=\u001b[39;49m\u001b[43mtest\u001b[49m\u001b[43m,\u001b[49m\n\u001b[0;32m   1141\u001b[0m \u001b[43m    \u001b[49m\u001b[43miteration_range\u001b[49m\u001b[38;5;241;43m=\u001b[39;49m\u001b[43miteration_range\u001b[49m\u001b[43m,\u001b[49m\n\u001b[0;32m   1142\u001b[0m \u001b[43m    \u001b[49m\u001b[43moutput_margin\u001b[49m\u001b[38;5;241;43m=\u001b[39;49m\u001b[43moutput_margin\u001b[49m\u001b[43m,\u001b[49m\n\u001b[0;32m   1143\u001b[0m \u001b[43m    \u001b[49m\u001b[43mvalidate_features\u001b[49m\u001b[38;5;241;43m=\u001b[39;49m\u001b[43mvalidate_features\u001b[49m\u001b[43m,\u001b[49m\n\u001b[0;32m   1144\u001b[0m \u001b[43m\u001b[49m\u001b[43m)\u001b[49m\n",
      "File \u001b[1;32m~\\anaconda3\\envs\\deeplearning\\lib\\site-packages\\xgboost\\core.py:2137\u001b[0m, in \u001b[0;36mBooster.predict\u001b[1;34m(self, data, output_margin, ntree_limit, pred_leaf, pred_contribs, approx_contribs, pred_interactions, validate_features, training, iteration_range, strict_shape)\u001b[0m\n\u001b[0;32m   2135\u001b[0m     \u001b[38;5;28;01mraise\u001b[39;00m \u001b[38;5;167;01mTypeError\u001b[39;00m(\u001b[38;5;124m'\u001b[39m\u001b[38;5;124mExpecting data to be a DMatrix object, got: \u001b[39m\u001b[38;5;124m'\u001b[39m, \u001b[38;5;28mtype\u001b[39m(data))\n\u001b[0;32m   2136\u001b[0m \u001b[38;5;28;01mif\u001b[39;00m validate_features:\n\u001b[1;32m-> 2137\u001b[0m     \u001b[38;5;28;43mself\u001b[39;49m\u001b[38;5;241;43m.\u001b[39;49m\u001b[43m_validate_dmatrix_features\u001b[49m\u001b[43m(\u001b[49m\u001b[43mdata\u001b[49m\u001b[43m)\u001b[49m\n\u001b[0;32m   2138\u001b[0m iteration_range \u001b[38;5;241m=\u001b[39m _convert_ntree_limit(\u001b[38;5;28mself\u001b[39m, ntree_limit, iteration_range)\n\u001b[0;32m   2139\u001b[0m args \u001b[38;5;241m=\u001b[39m {\n\u001b[0;32m   2140\u001b[0m     \u001b[38;5;124m\"\u001b[39m\u001b[38;5;124mtype\u001b[39m\u001b[38;5;124m\"\u001b[39m: \u001b[38;5;241m0\u001b[39m,\n\u001b[0;32m   2141\u001b[0m     \u001b[38;5;124m\"\u001b[39m\u001b[38;5;124mtraining\u001b[39m\u001b[38;5;124m\"\u001b[39m: training,\n\u001b[1;32m   (...)\u001b[0m\n\u001b[0;32m   2144\u001b[0m     \u001b[38;5;124m\"\u001b[39m\u001b[38;5;124mstrict_shape\u001b[39m\u001b[38;5;124m\"\u001b[39m: strict_shape,\n\u001b[0;32m   2145\u001b[0m }\n",
      "File \u001b[1;32m~\\anaconda3\\envs\\deeplearning\\lib\\site-packages\\xgboost\\core.py:2744\u001b[0m, in \u001b[0;36mBooster._validate_dmatrix_features\u001b[1;34m(self, data)\u001b[0m\n\u001b[0;32m   2741\u001b[0m \u001b[38;5;28;01mif\u001b[39;00m \u001b[38;5;28mself\u001b[39m\u001b[38;5;241m.\u001b[39mfeature_types \u001b[38;5;129;01mis\u001b[39;00m \u001b[38;5;28;01mNone\u001b[39;00m:\n\u001b[0;32m   2742\u001b[0m     \u001b[38;5;28mself\u001b[39m\u001b[38;5;241m.\u001b[39mfeature_types \u001b[38;5;241m=\u001b[39m ft\n\u001b[1;32m-> 2744\u001b[0m \u001b[38;5;28;43mself\u001b[39;49m\u001b[38;5;241;43m.\u001b[39;49m\u001b[43m_validate_features\u001b[49m\u001b[43m(\u001b[49m\u001b[43mfn\u001b[49m\u001b[43m)\u001b[49m\n",
      "File \u001b[1;32m~\\anaconda3\\envs\\deeplearning\\lib\\site-packages\\xgboost\\core.py:2751\u001b[0m, in \u001b[0;36mBooster._validate_features\u001b[1;34m(self, feature_names)\u001b[0m\n\u001b[0;32m   2748\u001b[0m     \u001b[38;5;28;01mreturn\u001b[39;00m\n\u001b[0;32m   2750\u001b[0m \u001b[38;5;28;01mif\u001b[39;00m feature_names \u001b[38;5;129;01mis\u001b[39;00m \u001b[38;5;28;01mNone\u001b[39;00m \u001b[38;5;129;01mand\u001b[39;00m \u001b[38;5;28mself\u001b[39m\u001b[38;5;241m.\u001b[39mfeature_names \u001b[38;5;129;01mis\u001b[39;00m \u001b[38;5;129;01mnot\u001b[39;00m \u001b[38;5;28;01mNone\u001b[39;00m:\n\u001b[1;32m-> 2751\u001b[0m     \u001b[38;5;28;01mraise\u001b[39;00m \u001b[38;5;167;01mValueError\u001b[39;00m(\n\u001b[0;32m   2752\u001b[0m         \u001b[38;5;124m\"\u001b[39m\u001b[38;5;124mtraining data did not have the following fields: \u001b[39m\u001b[38;5;124m\"\u001b[39m\n\u001b[0;32m   2753\u001b[0m         \u001b[38;5;241m+\u001b[39m \u001b[38;5;124m\"\u001b[39m\u001b[38;5;124m, \u001b[39m\u001b[38;5;124m\"\u001b[39m\u001b[38;5;241m.\u001b[39mjoin(\u001b[38;5;28mself\u001b[39m\u001b[38;5;241m.\u001b[39mfeature_names)\n\u001b[0;32m   2754\u001b[0m     )\n\u001b[0;32m   2756\u001b[0m \u001b[38;5;28;01mif\u001b[39;00m \u001b[38;5;28mself\u001b[39m\u001b[38;5;241m.\u001b[39mfeature_names \u001b[38;5;241m!=\u001b[39m feature_names:\n\u001b[0;32m   2757\u001b[0m     dat_missing \u001b[38;5;241m=\u001b[39m \u001b[38;5;28mset\u001b[39m(cast(FeatureNames, \u001b[38;5;28mself\u001b[39m\u001b[38;5;241m.\u001b[39mfeature_names)) \u001b[38;5;241m-\u001b[39m \u001b[38;5;28mset\u001b[39m(\n\u001b[0;32m   2758\u001b[0m         cast(FeatureNames, feature_names)\n\u001b[0;32m   2759\u001b[0m     )\n",
      "\u001b[1;31mValueError\u001b[0m: training data did not have the following fields: Species, Country, Speciality, Source, Year, Phenotype, Antibiotics"
     ]
    }
   ],
   "source": [
    "# Predict using the encoded values\n",
    "no_genes_prediction = xgb_model_no_genes.predict([prediction_encoded])\n",
    "\n"
   ]
  },
  {
   "cell_type": "code",
   "execution_count": null,
   "id": "4914cab6",
   "metadata": {},
   "outputs": [],
   "source": [
    "# Convert the prediction back to the original label\n",
    "prediction_label = label_encoder.inverse_transform(no_genes_prediction)\n",
    "\n",
    "# Print the prediction\n",
    "print(\"Prediction:\", prediction_label)\n"
   ]
  }
 ],
 "metadata": {
  "kernelspec": {
   "display_name": "Python (deeplearning)",
   "language": "python",
   "name": "deeplearning"
  },
  "language_info": {
   "codemirror_mode": {
    "name": "ipython",
    "version": 3
   },
   "file_extension": ".py",
   "mimetype": "text/x-python",
   "name": "python",
   "nbconvert_exporter": "python",
   "pygments_lexer": "ipython3",
   "version": "3.10.10"
  }
 },
 "nbformat": 4,
 "nbformat_minor": 5
}
